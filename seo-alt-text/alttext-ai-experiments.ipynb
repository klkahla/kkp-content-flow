{
 "cells": [
  {
   "cell_type": "markdown",
   "metadata": {},
   "source": [
    "# Pre-reqs"
   ]
  },
  {
   "cell_type": "code",
   "execution_count": null,
   "metadata": {},
   "outputs": [],
   "source": [
    "pip install requests"
   ]
  },
  {
   "cell_type": "markdown",
   "metadata": {},
   "source": [
    "# Base64-Encode file\n",
    "AltText.ai requires a file url or base64-encoded file for processing. All my files are local, so encoding it is"
   ]
  },
  {
   "cell_type": "code",
   "execution_count": 1,
   "metadata": {},
   "outputs": [],
   "source": [
    "import base64\n",
    "\n",
    "def encode_image_to_base64(image_path):\n",
    "    \"\"\"\n",
    "    Reads a local image file and returns its Base64-encoded string.\n",
    "\n",
    "    :param image_path: Path to the local image file\n",
    "    :return: Base64-encoded string of the image\n",
    "    \"\"\"\n",
    "    try:\n",
    "        with open(image_path, \"rb\") as image_file:\n",
    "            encoded_string = base64.b64encode(image_file.read()).decode('utf-8')\n",
    "        return encoded_string\n",
    "    except Exception as e:\n",
    "        print(f\"An error occurred: {e}\")\n",
    "        return None\n",
    "\n",
    "# Example usage:\n",
    "# base64_string = encode_image_to_base64(\"path/to/your/image.jpg\")\n",
    "# print(base64_string)\n"
   ]
  },
  {
   "cell_type": "markdown",
   "metadata": {},
   "source": [
    "# API Call to create-image (AtlText.ai)\n"
   ]
  },
  {
   "cell_type": "code",
   "execution_count": 11,
   "metadata": {},
   "outputs": [],
   "source": [
    "import requests\n",
    "\n",
    "def create_image(image_base64, tags):\n",
    "    api_url = 'https://alttext.ai/api/v1/images'\n",
    "    \"\"\"\n",
    "    Posts a Base64-encoded image to the given API URL with specified tags.\n",
    "\n",
    "    :param image_base64: Base64-encoded string of the image\n",
    "    :param tags: List of tags associated with the image\n",
    "    :param api_url: URL of the API endpoint\n",
    "    :return: Response from the API\n",
    "    \"\"\"\n",
    "    payload = {\n",
    "        \"image\": {\n",
    "            \"raw\": image_base64,\n",
    "            \"tags\": tags\n",
    "        },\n",
    "    }\n",
    "\n",
    "    headers = {\n",
    "        \"X-API-Key\": \"api-key\",\n",
    "        \"Content-Type\": \"application/json\"\n",
    "    }\n",
    "\n",
    "    try:\n",
    "        response = requests.post(api_url, json=payload, headers=headers)\n",
    "        print(response)\n",
    "        return response.json()\n",
    "    except Exception as e:\n",
    "        print(f\"An error occurred while posting to the API: {e}\")\n",
    "        return None"
   ]
  },
  {
   "cell_type": "markdown",
   "metadata": {},
   "source": [
    "# Create & save output to CSV file"
   ]
  },
  {
   "cell_type": "code",
   "execution_count": 13,
   "metadata": {},
   "outputs": [],
   "source": [
    "import csv\n",
    "\n",
    "# CSV file setup\n",
    "fieldnames = ['file_name', 'alt_text']\n",
    "\n",
    "def create_csv_file(csv_file_name):\n",
    "    # Always initialize (wipe) the CSV file with headers\n",
    "    with open(csv_file_name, mode='w', newline='') as file:\n",
    "        writer = csv.DictWriter(file, fieldnames=fieldnames)\n",
    "        writer.writeheader()\n",
    "\n",
    "def save_output_to_csv(csv_file_name, image_file_name, alt_text):\n",
    "    with open(csv_file_name, mode='a', newline='') as file:\n",
    "        writer = csv.DictWriter(file, fieldnames=fieldnames)\n",
    "        writer.writerow({'file_name': image_file_name, 'alt_text': alt_text})\n",
    "    print(f\"Processed {image_file_name}: {response['alt_text']}\")"
   ]
  },
  {
   "cell_type": "markdown",
   "metadata": {},
   "source": [
    "# Iterate the images found at a file path\n",
    "\n",
    "For each file in the file path\n",
    "1. Encode the file\n",
    "2. POST to /create-image url: https://alttext.ai/apidocs#tag/Images/operation/create-image\n",
    "3. Save output csv file (image name and seo alt text)"
   ]
  },
  {
   "cell_type": "code",
   "execution_count": 15,
   "metadata": {},
   "outputs": [
    {
     "name": "stdout",
     "output_type": "stream",
     "text": [
      "<Response [200]>\n",
      "{'asset_id': '45118336ae3fb2428ed6c4efbe393068', 'url': None, 'alt_text': 'A black and white photo captures a joyful couple walking hand in hand through a crowd outside a building, likely at a wedding. The smiling guests on both sides of the aisle cheer and throw confetti. The couple is dressed in casual attire.', 'tags': ['wedding', 'idaho', 'timeless', 'memorable', 'stress-free', 'joyful'], 'metadata': {}, 'created_at': 1722631136, 'errors': {}, 'error_code': None}\n",
      "Processed idaho-church-wedding-in-the-treasure-valley-148.jpg: A black and white photo captures a joyful couple walking hand in hand through a crowd outside a building, likely at a wedding. The smiling guests on both sides of the aisle cheer and throw confetti. The couple is dressed in casual attire.\n",
      "<Response [200]>\n",
      "{'asset_id': '4c03cd134444b5600debecc7e54df0c5', 'url': None, 'alt_text': 'A couple shares a kiss in the center of a crowd of people who are clapping and celebrating. The woman is wearing a white dress and the man is in a white shirt and jeans. They stand under a roofed structure, with the crowd forming a pathway around them.', 'tags': ['wedding', 'idaho', 'timeless', 'memorable', 'stress-free', 'joyful'], 'metadata': {}, 'created_at': 1722631141, 'errors': {}, 'error_code': None}\n",
      "Processed idaho-church-wedding-in-the-treasure-valley-149.jpg: A couple shares a kiss in the center of a crowd of people who are clapping and celebrating. The woman is wearing a white dress and the man is in a white shirt and jeans. They stand under a roofed structure, with the crowd forming a pathway around them.\n"
     ]
    }
   ],
   "source": [
    "import os\n",
    "csv_file_name = \"AltTextAI_SEO_Output.csv\"\n",
    "directory_path = '/Volumes/KKP.2024/Photos/Wedding/Blum.06.01/Finals/SEO.Web/Trial'\n",
    "csv_file_path = directory_path + \"/\" + csv_file_name\n",
    "wedding_keywords = [\"wedding\", \"idaho\", \"timeless\", \"memorable\", \"stress-free\", \"joyful\"]\n",
    "\n",
    "create_csv_file(csv_file_path)\n",
    "\n",
    "try:\n",
    "    for root, _, files in os.walk(directory_path):\n",
    "        for file in files:\n",
    "            if file.lower().endswith('.jpg'):\n",
    "                file_path = os.path.join(root, file)\n",
    "                encoded_file_path = encode_image_to_base64(file_path)\n",
    "                response = create_image(encoded_file_path, wedding_keywords)\n",
    "                print(response)\n",
    "\n",
    "                if response and 'alt_text' in response:\n",
    "                    save_output_to_csv(csv_file_path, file, response['alt_text'])\n",
    "                else:\n",
    "                    print(f\"Failed to get alt_text for {file}\")\n",
    "\n",
    "except Exception as e:\n",
    "    print(f\"An error occurred while iterating over the directory: {e}\")\n",
    "    \n",
    "    "
   ]
  }
 ],
 "metadata": {
  "kernelspec": {
   "display_name": "Python 3",
   "language": "python",
   "name": "python3"
  },
  "language_info": {
   "codemirror_mode": {
    "name": "ipython",
    "version": 3
   },
   "file_extension": ".py",
   "mimetype": "text/x-python",
   "name": "python",
   "nbconvert_exporter": "python",
   "pygments_lexer": "ipython3",
   "version": "3.9.6"
  }
 },
 "nbformat": 4,
 "nbformat_minor": 2
}
